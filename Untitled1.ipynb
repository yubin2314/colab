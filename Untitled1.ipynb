{
  "nbformat": 4,
  "nbformat_minor": 0,
  "metadata": {
    "colab": {
      "name": "Untitled1.ipynb",
      "provenance": [],
      "authorship_tag": "ABX9TyM5toERhrVPgaTddbXSVbFc",
      "include_colab_link": true
    },
    "kernelspec": {
      "name": "python3",
      "display_name": "Python 3"
    },
    "language_info": {
      "name": "python"
    }
  },
  "cells": [
    {
      "cell_type": "markdown",
      "metadata": {
        "id": "view-in-github",
        "colab_type": "text"
      },
      "source": [
        "<a href=\"https://colab.research.google.com/github/yubin2314/colab/blob/main/Untitled1.ipynb\" target=\"_parent\"><img src=\"https://colab.research.google.com/assets/colab-badge.svg\" alt=\"Open In Colab\"/></a>"
      ]
    },
    {
      "cell_type": "markdown",
      "source": [
        "# 파이썬 시작하기\n",
        "\n",
        "*   프로그래밍 언어?\n",
        " * 컴퓨터와 스마트폰에 들어 있는 많은 소프트웨어 유튜브, 메시지, 전화, 카카오톡 등\n",
        " * 프로그램, 소프트웨어(software), 어플리케이션(Application), 앱(App), 응용 프로그램 모두 동일한 용어입나다.\n",
        "\n"
      ],
      "metadata": {
        "id": "GeIc3rtBIc1k"
      }
    },
    {
      "cell_type": "code",
      "execution_count": null,
      "metadata": {
        "id": "Q4MMLLjSHeEm"
      },
      "outputs": [],
      "source": [
        ""
      ]
    },
    {
      "cell_type": "markdown",
      "source": [
        "#프로그램, 프로그래밍, 언어, 프로그래머\n",
        "\n",
        "* 프로그래밍(programming)\n",
        "  * 프로그램을 만드는 작업\n",
        "* 프로그래밍 언어(programming languge)\n",
        "  * 사람이 이해하는 말을 언어라고 부르듯이 컴퓨터가 이해하는 언어를 의미\n",
        "* 프로그래머(programer)\n",
        " * 프로그래밍 언어를 사용하는 소프트웨어나 앱을 만드는 직업을 가진 사람들"
      ],
      "metadata": {
        "id": "VvxpVEr_LLzD"
      }
    },
    {
      "cell_type": "code",
      "source": [
        "print(100+300)"
      ],
      "metadata": {
        "colab": {
          "base_uri": "https://localhost:8080/"
        },
        "id": "KK1VC0_xVnGQ",
        "outputId": "8bc9de9a-3d8d-4e57-9688-5a712f5ee0ff"
      },
      "execution_count": 1,
      "outputs": [
        {
          "output_type": "stream",
          "name": "stdout",
          "text": [
            "400\n"
          ]
        }
      ]
    },
    {
      "cell_type": "code",
      "source": [
        "print(200/3*4)"
      ],
      "metadata": {
        "colab": {
          "base_uri": "https://localhost:8080/"
        },
        "id": "His_aKAtVqF-",
        "outputId": "3b342608-85ff-4c25-e3ba-70e7e27b1757"
      },
      "execution_count": 2,
      "outputs": [
        {
          "output_type": "stream",
          "name": "stdout",
          "text": [
            "266.6666666666667\n"
          ]
        }
      ]
    },
    {
      "cell_type": "code",
      "source": [
        "print(\"난생처음 파이썬\")\n",
        "print(\"열심히 공부중입니다\")\n",
        "print(\"이제 저도 파이썬 프로그래머 입니다\")"
      ],
      "metadata": {
        "colab": {
          "base_uri": "https://localhost:8080/"
        },
        "id": "u4TQFT72VtwH",
        "outputId": "a0472ba9-adc1-43b1-bfbe-3ee670069796"
      },
      "execution_count": 3,
      "outputs": [
        {
          "output_type": "stream",
          "name": "stdout",
          "text": [
            "난생처음 파이썬\n",
            "열심히 공부중입니다\n",
            "이제 저도 파이썬 프로그래머 입니다\n"
          ]
        }
      ]
    }
  ]
}
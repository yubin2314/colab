{
  "nbformat": 4,
  "nbformat_minor": 0,
  "metadata": {
    "colab": {
      "name": "Untitled0.ipynb",
      "provenance": [],
      "authorship_tag": "ABX9TyNSSBWzENuaJRdiIuoEr0Gz",
      "include_colab_link": true
    },
    "kernelspec": {
      "name": "python3",
      "display_name": "Python 3"
    },
    "language_info": {
      "name": "python"
    }
  },
  "cells": [
    {
      "cell_type": "markdown",
      "metadata": {
        "id": "view-in-github",
        "colab_type": "text"
      },
      "source": [
        "<a href=\"https://colab.research.google.com/github/yubin2314/colab/blob/main/Untitled0.ipynb\" target=\"_parent\"><img src=\"https://colab.research.google.com/assets/colab-badge.svg\" alt=\"Open In Colab\"/></a>"
      ]
    },
    {
      "cell_type": "code",
      "execution_count": 1,
      "metadata": {
        "colab": {
          "base_uri": "https://localhost:8080/"
        },
        "id": "wiasSaVwFdke",
        "outputId": "048939cf-d74f-40ce-e65a-ec550b78be99"
      },
      "outputs": [
        {
          "output_type": "stream",
          "name": "stdout",
          "text": [
            "컴퓨터과 3학년 1반 7번 김유빈\n"
          ]
        }
      ],
      "source": [
        "print(\"컴퓨터과 3학년 1반 7번 김유빈\")"
      ]
    },
    {
      "cell_type": "markdown",
      "source": [
        "나의 첫 프로그래밍"
      ],
      "metadata": {
        "id": "5eKLHj6TFnei"
      }
    }
  ]
}
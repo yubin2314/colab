{
  "nbformat": 4,
  "nbformat_minor": 0,
  "metadata": {
    "colab": {
      "name": "mysecond.ipynd",
      "provenance": [],
      "authorship_tag": "ABX9TyPfqrHMNuHUh2Yb1/VdjBd1",
      "include_colab_link": true
    },
    "kernelspec": {
      "name": "python3",
      "display_name": "Python 3"
    },
    "language_info": {
      "name": "python"
    }
  },
  "cells": [
    {
      "cell_type": "markdown",
      "metadata": {
        "id": "view-in-github",
        "colab_type": "text"
      },
      "source": [
        "<a href=\"https://colab.research.google.com/github/yubin2314/colab/blob/main/mysecond_ipynd.ipynb\" target=\"_parent\"><img src=\"https://colab.research.google.com/assets/colab-badge.svg\" alt=\"Open In Colab\"/></a>"
      ]
    },
    {
      "cell_type": "code",
      "execution_count": 1,
      "metadata": {
        "colab": {
          "base_uri": "https://localhost:8080/"
        },
        "id": "YUgYyBdfQwIC",
        "outputId": "5d9e753f-e7b0-4176-91d2-bb335b980ba5"
      },
      "outputs": [
        {
          "output_type": "stream",
          "name": "stdout",
          "text": [
            "두번째 파일입니다\n",
            "난생 처음 파이썬을 공부하지만\n",
            "점점 공부가 되는거 같아요\n"
          ]
        }
      ],
      "source": [
        "print(\"두번째 파일입니다\")\n",
        "print(\"난생 처음 파이썬을 공부하지만\")\n",
        "print(\"점점 공부가 되는거 같아요\")"
      ]
    }
  ]
}
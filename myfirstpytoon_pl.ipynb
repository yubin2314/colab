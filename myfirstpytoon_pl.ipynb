{
  "nbformat": 4,
  "nbformat_minor": 0,
  "metadata": {
    "colab": {
      "name": "myfirstpytoon-pl.ipynb",
      "provenance": [],
      "collapsed_sections": [],
      "authorship_tag": "ABX9TyPZiFgP+cpIJqwo5vNcRDG2",
      "include_colab_link": true
    },
    "kernelspec": {
      "name": "python3",
      "display_name": "Python 3"
    },
    "language_info": {
      "name": "python"
    }
  },
  "cells": [
    {
      "cell_type": "markdown",
      "metadata": {
        "id": "view-in-github",
        "colab_type": "text"
      },
      "source": [
        "<a href=\"https://colab.research.google.com/github/yubin2314/colab/blob/main/myfirstpytoon_pl.ipynb\" target=\"_parent\"><img src=\"https://colab.research.google.com/assets/colab-badge.svg\" alt=\"Open In Colab\"/></a>"
      ]
    },
    {
      "cell_type": "markdown",
      "source": [
        "#나의 첫 파이썬 프로그래밍\n",
        "\n"
      ],
      "metadata": {
        "id": "xvrTJ_XQTMuX"
      }
    },
    {
      "cell_type": "code",
      "execution_count": 1,
      "metadata": {
        "colab": {
          "base_uri": "https://localhost:8080/"
        },
        "id": "s4DPYKC1S_Oo",
        "outputId": "6c92b37d-324d-4687-a9ec-db20acea8052"
      },
      "outputs": [
        {
          "output_type": "stream",
          "name": "stdout",
          "text": [
            "컴퓨터과 3학년 1반 7번 김유빈\n"
          ]
        }
      ],
      "source": [
        "print(\"컴퓨터과 3학년 1반 7번 김유빈\")"
      ]
    }
  ]
}